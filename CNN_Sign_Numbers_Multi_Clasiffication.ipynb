{
 "cells": [
  {
   "cell_type": "markdown",
   "metadata": {},
   "source": [
    "# Data from: https://github.com/ardamavi/Sign-Language-Digits-Dataset"
   ]
  },
  {
   "cell_type": "code",
   "execution_count": 1,
   "metadata": {
    "scrolled": true
   },
   "outputs": [
    {
     "name": "stderr",
     "output_type": "stream",
     "text": [
      "Using TensorFlow backend.\n"
     ]
    }
   ],
   "source": [
    "import os\n",
    "import cv2\n",
    "import matplotlib.pyplot as plt\n",
    "from numpy import random\n",
    "\n",
    "import keras\n",
    "import tensorflow as tf\n",
    "from keras import models\n",
    "from tensorflow.keras.callbacks import TensorBoard\n",
    "\n",
    "from keras.optimizers import Adam\n",
    "from keras.models import Sequential\n",
    "from keras.layers.convolutional import Conv2D, MaxPooling2D\n",
    "from keras.layers import BatchNormalization, Flatten, Dropout, Dense\n",
    "from keras.preprocessing.image import ImageDataGenerator"
   ]
  },
  {
   "cell_type": "markdown",
   "metadata": {},
   "source": [
    "## Define data path and sub files"
   ]
  },
  {
   "cell_type": "code",
   "execution_count": 51,
   "metadata": {},
   "outputs": [],
   "source": [
    "data_path = \".\\Dataset\"\n",
    "labels = [\"0\",\"1\",\"2\",\"3\",\"4\",\"5\",\"6\",\"7\",\"8\",\"9\"]"
   ]
  },
  {
   "cell_type": "markdown",
   "metadata": {},
   "source": [
    "## Random show an image from the data files"
   ]
  },
  {
   "cell_type": "code",
   "execution_count": 201,
   "metadata": {},
   "outputs": [
    {
     "name": "stdout",
     "output_type": "stream",
     "text": [
      "Class selection: 7\n",
      "File from: .\\Dataset\\7\\IMG_1125.JPG\n",
      "Image Dims: (100, 100)\n"
     ]
    },
    {
     "data": {
      "image/png": "[encoded data removed]",
      "text/plain": [
       "<Figure size 432x288 with 1 Axes>"
      ]
     },
     "metadata": {
      "needs_background": "light"
     },
     "output_type": "display_data"
    }
   ],
   "source": [
    "rand_img = random.choice(list(labels))\n",
    "print(\"Class selection:\",rand_img)\n",
    "data_path1 = os.path.join(data_path, rand_img)\n",
    "\n",
    "for img in os.listdir(data_path1):\n",
    "    rand_img = random.choice(list(labels))\n",
    "    image = cv2.imread(os.path.join(data_path1, img), cv2.IMREAD_GRAYSCALE)\n",
    "    print(\"File from:\",os.path.join(data_path1, img))\n",
    "    print(\"Image Dims:\", np.shape(image))\n",
    "    plt.imshow(image, cmap=\"gray\")\n",
    "    break"
   ]
  },
  {
   "cell_type": "markdown",
   "metadata": {},
   "source": [
    "## Log files settings for tensorboard"
   ]
  },
  {
   "cell_type": "code",
   "execution_count": 5,
   "metadata": {},
   "outputs": [],
   "source": [
    "NAME = \"sign_numbers_22\""
   ]
  },
  {
   "cell_type": "code",
   "execution_count": 6,
   "metadata": {},
   "outputs": [],
   "source": [
    "tensorboard = TensorBoard(log_dir=\"logs/{}\".format(NAME))"
   ]
  },
  {
   "cell_type": "markdown",
   "metadata": {},
   "source": [
    "## Model definition , compile and print summary"
   ]
  },
  {
   "cell_type": "code",
   "execution_count": 7,
   "metadata": {},
   "outputs": [],
   "source": [
    "multi_class_model = Sequential()\n",
    "\n",
    "multi_class_model.add(Conv2D(36, (3, 3),input_shape = (64,64,1), activation='relu'))\n",
    "multi_class_model.add(MaxPooling2D(pool_size = (2, 2)))\n",
    "\n",
    "multi_class_model.add(Conv2D(24, (3, 3),activation='relu'))\n",
    "multi_class_model.add(MaxPooling2D(pool_size = (4, 4)))\n",
    "\n",
    "multi_class_model.add(Flatten())\n",
    "\n",
    "multi_class_model.add(Dense(256, activation = 'relu'))\n",
    "multi_class_model.add(Dropout(0.5))\n",
    "multi_class_model.add(BatchNormalization())\n",
    "\n",
    "multi_class_model.add(Dense(10, activation = 'softmax'))\n",
    "\n",
    "multi_class_model.compile(optimizer=Adam(lr=0.001),loss = 'binary_crossentropy', metrics = ['accuracy'])"
   ]
  },
  {
   "cell_type": "code",
   "execution_count": 8,
   "metadata": {},
   "outputs": [
    {
     "name": "stdout",
     "output_type": "stream",
     "text": [
      "_________________________________________________________________\n",
      "Layer (type)                 Output Shape              Param #   \n",
      "=================================================================\n",
      "conv2d_1 (Conv2D)            (None, 62, 62, 36)        360       \n",
      "_________________________________________________________________\n",
      "max_pooling2d_1 (MaxPooling2 (None, 31, 31, 36)        0         \n",
      "_________________________________________________________________\n",
      "conv2d_2 (Conv2D)            (None, 29, 29, 24)        7800      \n",
      "_________________________________________________________________\n",
      "max_pooling2d_2 (MaxPooling2 (None, 7, 7, 24)          0         \n",
      "_________________________________________________________________\n",
      "flatten_1 (Flatten)          (None, 1176)              0         \n",
      "_________________________________________________________________\n",
      "dense_1 (Dense)              (None, 256)               301312    \n",
      "_________________________________________________________________\n",
      "dropout_1 (Dropout)          (None, 256)               0         \n",
      "_________________________________________________________________\n",
      "batch_normalization_1 (Batch (None, 256)               1024      \n",
      "_________________________________________________________________\n",
      "dense_2 (Dense)              (None, 10)                2570      \n",
      "=================================================================\n",
      "Total params: 313,066\n",
      "Trainable params: 312,554\n",
      "Non-trainable params: 512\n",
      "_________________________________________________________________\n"
     ]
    }
   ],
   "source": [
    "multi_class_model.summary()"
   ]
  },
  {
   "cell_type": "markdown",
   "metadata": {},
   "source": [
    "# Train by using the ImageDataGenerator from Keras"
   ]
  },
  {
   "cell_type": "markdown",
   "metadata": {},
   "source": [
    "## Data/images prep:"
   ]
  },
  {
   "cell_type": "code",
   "execution_count": 9,
   "metadata": {},
   "outputs": [],
   "source": [
    "train_datagen = ImageDataGenerator(rescale = 1./255,rotation_range=15,\n",
    "                                   width_shift_range=0.1,\n",
    "                                   height_shift_range=0.1,\n",
    "                                   shear_range=0.01,\n",
    "                                   zoom_range=[0.9, 1.25],\n",
    "                                   horizontal_flip=True,\n",
    "                                   vertical_flip=False,\n",
    "                                   fill_mode='reflect',\n",
    "                                   brightness_range=[0.9, 1.5])"
   ]
  },
  {
   "cell_type": "markdown",
   "metadata": {},
   "source": [
    "## File which contains all the data \"directory=r\"./Dataset\" , divided with sub folders for each number [0,1,2 etc] it needs to be in this format or else it wont work"
   ]
  },
  {
   "cell_type": "code",
   "execution_count": 10,
   "metadata": {},
   "outputs": [
    {
     "name": "stdout",
     "output_type": "stream",
     "text": [
      "Found 2062 images belonging to 10 classes.\n"
     ]
    }
   ],
   "source": [
    "train_generator = train_datagen.flow_from_directory(\n",
    "    directory=r\"./Dataset\",\n",
    "    target_size=(64, 64),\n",
    "    color_mode=\"grayscale\",\n",
    "    batch_size=32,\n",
    "    class_mode=\"categorical\",\n",
    "    shuffle=True,\n",
    "    seed=42\n",
    ")"
   ]
  },
  {
   "cell_type": "markdown",
   "metadata": {},
   "source": [
    "# Start training"
   ]
  },
  {
   "cell_type": "code",
   "execution_count": 12,
   "metadata": {},
   "outputs": [],
   "source": [
    "keras.backend.get_session().run(tf.global_variables_initializer())\n",
    "# Not needed, but sometimes it gave me an error which i rat this cell to fix it"
   ]
  },
  {
   "cell_type": "code",
   "execution_count": 13,
   "metadata": {
    "scrolled": false
   },
   "outputs": [
    {
     "name": "stdout",
     "output_type": "stream",
     "text": [
      "Epoch 1/20\n",
      "64/64 [==============================] - 48s 745ms/step - loss: 0.3258 - acc: 0.8996\n",
      "Epoch 2/20\n",
      "64/64 [==============================] - 10s 157ms/step - loss: 0.2713 - acc: 0.9045\n",
      "Epoch 3/20\n",
      "64/64 [==============================] - 10s 150ms/step - loss: 0.2380 - acc: 0.9121\n",
      "Epoch 4/20\n",
      "64/64 [==============================] - 10s 150ms/step - loss: 0.2176 - acc: 0.9185\n",
      "Epoch 5/20\n",
      "64/64 [==============================] - 10s 151ms/step - loss: 0.2001 - acc: 0.9244\n",
      "Epoch 6/20\n",
      "64/64 [==============================] - 10s 149ms/step - loss: 0.1903 - acc: 0.9259\n",
      "Epoch 7/20\n",
      "64/64 [==============================] - 10s 150ms/step - loss: 0.1780 - acc: 0.9313\n",
      "Epoch 8/20\n",
      "64/64 [==============================] - 10s 150ms/step - loss: 0.1731 - acc: 0.9331\n",
      "Epoch 9/20\n",
      "64/64 [==============================] - 10s 150ms/step - loss: 0.1621 - acc: 0.9374\n",
      "Epoch 10/20\n",
      "64/64 [==============================] - 10s 152ms/step - loss: 0.1562 - acc: 0.9397\n",
      "Epoch 11/20\n",
      "64/64 [==============================] - 10s 154ms/step - loss: 0.1516 - acc: 0.9416\n",
      "Epoch 12/20\n",
      "64/64 [==============================] - 9s 148ms/step - loss: 0.1472 - acc: 0.9430\n",
      "Epoch 13/20\n",
      "64/64 [==============================] - 10s 149ms/step - loss: 0.1462 - acc: 0.9410\n",
      "Epoch 14/20\n",
      "64/64 [==============================] - 9s 148ms/step - loss: 0.1382 - acc: 0.9473\n",
      "Epoch 15/20\n",
      "64/64 [==============================] - 10s 149ms/step - loss: 0.1338 - acc: 0.9493\n",
      "Epoch 16/20\n",
      "64/64 [==============================] - 10s 154ms/step - loss: 0.1258 - acc: 0.9491\n",
      "Epoch 17/20\n",
      "64/64 [==============================] - 10s 151ms/step - loss: 0.1249 - acc: 0.9511\n",
      "Epoch 18/20\n",
      "64/64 [==============================] - 10s 149ms/step - loss: 0.1210 - acc: 0.9533\n",
      "Epoch 19/20\n",
      "64/64 [==============================] - 10s 152ms/step - loss: 0.1229 - acc: 0.9517\n",
      "Epoch 20/20\n",
      "64/64 [==============================] - 9s 147ms/step - loss: 0.1155 - acc: 0.9565\n"
     ]
    },
    {
     "data": {
      "text/plain": [
       "<keras.callbacks.History at 0x1c351f06b70>"
      ]
     },
     "execution_count": 13,
     "metadata": {},
     "output_type": "execute_result"
    }
   ],
   "source": [
    "multi_class_model.fit_generator(train_generator,\n",
    "                    steps_per_epoch = 64,\n",
    "                    epochs = 20, callbacks=[tensorboard])"
   ]
  },
  {
   "cell_type": "markdown",
   "metadata": {},
   "source": [
    "## Save the model"
   ]
  },
  {
   "cell_type": "code",
   "execution_count": 14,
   "metadata": {},
   "outputs": [],
   "source": [
    "multi_class_model.save(r'./Model/model_40_epoch.h5')"
   ]
  },
  {
   "cell_type": "markdown",
   "metadata": {},
   "source": [
    "# Try the model predictions using camera using OpenCv"
   ]
  },
  {
   "cell_type": "code",
   "execution_count": 16,
   "metadata": {},
   "outputs": [],
   "source": [
    "import cv2\n",
    "import numpy as np\n",
    "from PIL import Image\n",
    "from keras import models\n",
    "\n",
    "font = cv2.FONT_HERSHEY_SIMPLEX\n",
    "\n",
    "model = models.load_model(r'./Model/model_40_epoch.h5')\n",
    "\n",
    "video = cv2.VideoCapture(0)\n",
    "\n",
    "def train_target_gen(image):\n",
    "    \n",
    "    image_array = np.asarray(image)\n",
    "    image_array = cv2.resize(image, (64,64))\n",
    "    image_array= (image_array/255)\n",
    "    image_array = image_array.reshape(-1,64,64,1)\n",
    "\n",
    "    yield (image_array)\n",
    "    \n",
    "while True:\n",
    "    \n",
    "    _, frame = video.read()\n",
    "    im=cv2.cvtColor(frame, cv2.COLOR_BGR2GRAY)\n",
    "    img_array = np.array(im)\n",
    "    prediction = model.predict_generator(train_target_gen((img_array)), steps=1)\n",
    "    y_classes = prediction.argmax(axis=-1)\n",
    "    \n",
    "    font = cv2.FONT_HERSHEY_SIMPLEX\n",
    "    bottomLeftCornerOfText = (30,30)\n",
    "    fontScale = 1\n",
    "    fontColor = (255,255,255)\n",
    "    lineType = 2\n",
    "    cv2.putText(frame,str(y_classes), \n",
    "    bottomLeftCornerOfText, \n",
    "    font, \n",
    "    fontScale,\n",
    "    fontColor,\n",
    "    lineType)\n",
    "\n",
    "\n",
    "    cv2.imshow(\"Capturing\", frame)\n",
    "    key=cv2.waitKey(1)\n",
    "    if key ==ord('q'):\n",
    "        break\n",
    "video.release()\n",
    "cv2.destroyAllWindows()"
   ]
  },
  {
   "cell_type": "code",
   "execution_count": null,
   "metadata": {},
   "outputs": [],
   "source": []
  },
  {
   "cell_type": "markdown",
   "metadata": {},
   "source": [
    "## It wont work 100% for live data , even if 95% acu and more. More research is needed"
   ]
  },
  {
   "cell_type": "code",
   "execution_count": null,
   "metadata": {},
   "outputs": [],
   "source": []
  }
 ],
 "metadata": {
  "kernelspec": {
   "display_name": "Python 3",
   "language": "python",
   "name": "python3"
  },
  "language_info": {
   "codemirror_mode": {
    "name": "ipython",
    "version": 3
   },
   "file_extension": ".py",
   "mimetype": "text/x-python",
   "name": "python",
   "nbconvert_exporter": "python",
   "pygments_lexer": "ipython3",
   "version": "3.6.6"
  }
 },
 "nbformat": 4,
 "nbformat_minor": 2
}
